{
 "cells": [
  {
   "cell_type": "code",
   "execution_count": 4,
   "metadata": {},
   "outputs": [],
   "source": [
    "import os\n",
    "from dotenv import load_dotenv\n",
    "import openai\n",
    "from openai.embeddings_utils import get_embeddings, get_embedding\n",
    "import pandas as pd\n",
    "import numpy as np\n",
    "from sklearn.metrics.pairwise import cosine_similarity\n",
    "\n",
    "load_dotenv()\n",
    "\n",
    "openai.api_key = os.getenv(\"OPENAI_API_KEY\")\n",
    "\n",
    "hyde_path = \"hyde.csv\"\n",
    "df = pd.read_csv(hyde_path)\n",
    "df['hyde_embedding'] = df.hyde_embedding.apply(eval).apply(np.array)"
   ]
  },
  {
   "cell_type": "code",
   "execution_count": 6,
   "metadata": {},
   "outputs": [
    {
     "data": {
      "text/html": [
       "<div>\n",
       "<style scoped>\n",
       "    .dataframe tbody tr th:only-of-type {\n",
       "        vertical-align: middle;\n",
       "    }\n",
       "\n",
       "    .dataframe tbody tr th {\n",
       "        vertical-align: top;\n",
       "    }\n",
       "\n",
       "    .dataframe thead th {\n",
       "        text-align: right;\n",
       "    }\n",
       "</style>\n",
       "<table border=\"1\" class=\"dataframe\">\n",
       "  <thead>\n",
       "    <tr style=\"text-align: right;\">\n",
       "      <th></th>\n",
       "      <th>site</th>\n",
       "      <th>similarity</th>\n",
       "    </tr>\n",
       "  </thead>\n",
       "  <tbody>\n",
       "    <tr>\n",
       "      <th>6</th>\n",
       "      <td>https://jagilley.github.io/</td>\n",
       "      <td>0.728066</td>\n",
       "    </tr>\n",
       "    <tr>\n",
       "      <th>5</th>\n",
       "      <td>https://harvardlawreview.org/</td>\n",
       "      <td>0.619627</td>\n",
       "    </tr>\n",
       "    <tr>\n",
       "      <th>2</th>\n",
       "      <td>https://manifold.markets/</td>\n",
       "      <td>0.611241</td>\n",
       "    </tr>\n",
       "    <tr>\n",
       "      <th>0</th>\n",
       "      <td>https://news.ycombinator.com/</td>\n",
       "      <td>0.607286</td>\n",
       "    </tr>\n",
       "    <tr>\n",
       "      <th>1</th>\n",
       "      <td>https://openai.com/</td>\n",
       "      <td>0.564634</td>\n",
       "    </tr>\n",
       "  </tbody>\n",
       "</table>\n",
       "</div>"
      ],
      "text/plain": [
       "                            site  similarity\n",
       "6    https://jagilley.github.io/    0.728066\n",
       "5  https://harvardlawreview.org/    0.619627\n",
       "2      https://manifold.markets/    0.611241\n",
       "0  https://news.ycombinator.com/    0.607286\n",
       "1            https://openai.com/    0.564634"
      ]
     },
     "execution_count": 6,
     "metadata": {},
     "output_type": "execute_result"
    }
   ],
   "source": [
    "query = \"A personal blog of a musician\"\n",
    "\n",
    "query_embed = get_embedding(query)\n",
    "\n",
    "# sort the df by cosine similarity\n",
    "df['similarity'] = df.hyde_embedding.apply(lambda x: cosine_similarity([x], [query_embed])[0][0])\n",
    "df.sort_values(by='similarity', ascending=False, inplace=True)\n",
    "\n",
    "# print the top 5 results\n",
    "df[['site', 'similarity']].head(5)"
   ]
  },
  {
   "cell_type": "code",
   "execution_count": 17,
   "metadata": {},
   "outputs": [
    {
     "data": {
      "text/plain": [
       "[Result(title='Biography', url='https://www.johnmackey.com/biography/', id='kDR2DMbJKB8o9DeBet10cQ', score=0.17721006274223328, published_date='2023-01-01', author=None, extract=None),\n",
       " Result(title='Stan Stewart - aka @muz4now - the muse is present', url='https://muz4now.com/', id='qXNwHQl2M0zXu2jhK-zJPw', score=0.17628002166748047, published_date='2023-02-21', author='Stan Stewart', extract=None),\n",
       " Result(title='About', url='https://www.intercaetera.com/about', id='QyGxL88EzTLAaqKNLgfsKA', score=0.1724986433982849, published_date='2023-01-01', author=None, extract=None),\n",
       " Result(title='About', url='https://arikoinuma.com/about/', id='lfL2mY5obUQ7Tph1YJKi0g', score=0.1714945137500763, published_date='2007-11-08', author=None, extract=None),\n",
       " Result(title='about - biography from Steven Vrancken', url='https://stevenvrancken.com/about/', id='53umoOxZszaFoYGoog30TQ', score=0.1706477552652359, published_date='2018-02-17', author=None, extract=None),\n",
       " Result(title='David Connors', url='https://www.davidconnors.com/', id='tHh0--8mysoCWsSCA8ijuQ', score=0.16670240461826324, published_date='2023-01-04', author=None, extract=None),\n",
       " Result(title='Maarten Rischen | ABOUT', url='https://www.maartenrischen.com/about/', id='g4R8sHHjKRmjq-mJCJ9N2g', score=0.16669601202011108, published_date='2020-05-17', author=None, extract=None),\n",
       " Result(title='About', url='https://journeytoparnassus.com/about/', id='r4s7ztLxBABg7G7uuUqBrQ', score=0.16375085711479187, published_date='2023-01-01', author=None, extract=None),\n",
       " Result(title='About me', url='https://www.xavierriley.co.uk/', id='ZfFocDMSBDcrZAu7iTdQ0w', score=0.1630581021308899, published_date='2023-01-01', author=None, extract=None),\n",
       " Result(title='Kamarius Music', url='https://kamarius.blogspot.com/', id='8waYtLX7zXP4YAxvCRioOA', score=0.16230985522270203, published_date='2022-07-20', author='Kamarius', extract=None)]"
      ]
     },
     "execution_count": 17,
     "metadata": {},
     "output_type": "execute_result"
    }
   ],
   "source": [
    "from metaphor_python import Metaphor\n",
    "metaphor = Metaphor(os.getenv(\"METAPHOR_API_KEY\"))\n",
    "\n",
    "response = metaphor.search(\n",
    "  query,\n",
    "  num_results=10,\n",
    ")\n",
    "response.results"
   ]
  }
 ],
 "metadata": {
  "kernelspec": {
   "display_name": "venv",
   "language": "python",
   "name": "python3"
  },
  "language_info": {
   "codemirror_mode": {
    "name": "ipython",
    "version": 3
   },
   "file_extension": ".py",
   "mimetype": "text/x-python",
   "name": "python",
   "nbconvert_exporter": "python",
   "pygments_lexer": "ipython3",
   "version": "3.10.9"
  },
  "orig_nbformat": 4
 },
 "nbformat": 4,
 "nbformat_minor": 2
}
